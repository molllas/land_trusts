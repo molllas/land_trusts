{
 "cells": [
  {
   "cell_type": "markdown",
   "metadata": {},
   "source": [
    "# Setup"
   ]
  },
  {
   "cell_type": "code",
   "execution_count": 1,
   "metadata": {
    "ExecuteTime": {
     "end_time": "2018-01-28T20:54:39.055869Z",
     "start_time": "2018-01-28T20:54:29.227940Z"
    },
    "collapsed": true
   },
   "outputs": [],
   "source": [
    "import pandas as pd\n",
    "import numpy as np\n",
    "import random\n",
    "from load_data import load_xs_data, load_panel_data\n",
    "\n",
    "from sklearn.decomposition import PCA\n",
    "from scipy.stats.kde import gaussian_kde\n",
    "\n",
    "import matplotlib.pyplot as plt\n",
    "import seaborn as sns\n",
    "\n",
    "%matplotlib inline"
   ]
  },
  {
   "cell_type": "markdown",
   "metadata": {},
   "source": [
    "# Define PCA fct"
   ]
  },
  {
   "cell_type": "code",
   "execution_count": 2,
   "metadata": {
    "ExecuteTime": {
     "end_time": "2018-01-28T20:55:08.687079Z",
     "start_time": "2018-01-28T20:55:08.678090Z"
    },
    "collapsed": true
   },
   "outputs": [],
   "source": [
    "def PCA(data, dim_rescaled_data=None): \n",
    "    import numpy as np\n",
    "    from scipy import linalg as LA\n",
    "    m, n = data.shape\n",
    "    data -= data.mean(axis=0)\n",
    "    data /= data.std(axis=0)\n",
    "    R = np.cov(data, rowvar=False)\n",
    "    evals, evecs = LA.eigh(R)\n",
    "    idx = np.argsort(evals)[::-1]\n",
    "    evecs = evecs[:, idx]\n",
    "    evals = evals[idx]\n",
    "    if dim_rescaled_data is not None: \n",
    "        evecs = evecs[:, :dim_rescaled_data]\n",
    "    return np.dot(evecs.T, data.T).T, evals, evecs"
   ]
  },
  {
   "cell_type": "markdown",
   "metadata": {},
   "source": [
    "# Simulate latent factor"
   ]
  },
  {
   "cell_type": "markdown",
   "metadata": {},
   "source": [
    "## Latent factor"
   ]
  },
  {
   "cell_type": "code",
   "execution_count": 3,
   "metadata": {
    "ExecuteTime": {
     "end_time": "2018-01-28T20:55:14.615764Z",
     "start_time": "2018-01-28T20:55:14.532707Z"
    },
    "collapsed": true
   },
   "outputs": [],
   "source": [
    "factor = pd.Series(index=range(0, 1000))\n",
    "for ix in factor.index: \n",
    "    factor.loc[ix] = random.uniform(0, 100)"
   ]
  },
  {
   "cell_type": "markdown",
   "metadata": {},
   "source": [
    "## Simulate data"
   ]
  },
  {
   "cell_type": "code",
   "execution_count": 4,
   "metadata": {
    "ExecuteTime": {
     "end_time": "2018-01-28T20:55:18.642596Z",
     "start_time": "2018-01-28T20:55:16.449048Z"
    },
    "collapsed": true
   },
   "outputs": [],
   "source": [
    "A = [-2, 1, 100, 20, 5, 7]\n",
    "data = pd.DataFrame(index=factor.index, columns=['lhs', 'rhs1', 'rhs2', 'rhs3', 'rhs4', 'rhs5', 'pc1'])\n",
    "for ix, cx in enumerate(data.drop('pc1', axis=1).columns): \n",
    "    data.loc[:, cx] = factor * A[ix]\n",
    "    for nx in data.index: \n",
    "        data.loc[nx, cx] += random.gauss(0, A[ix])"
   ]
  },
  {
   "cell_type": "markdown",
   "metadata": {},
   "source": [
    "### Determine 1st PC"
   ]
  },
  {
   "cell_type": "code",
   "execution_count": 5,
   "metadata": {
    "ExecuteTime": {
     "end_time": "2018-01-28T20:55:18.719649Z",
     "start_time": "2018-01-28T20:55:18.673618Z"
    },
    "collapsed": true
   },
   "outputs": [],
   "source": [
    "data['pc1'], _, scores = PCA(data[list(data.drop(['lhs', 'pc1'], axis=1).columns)].values)"
   ]
  },
  {
   "cell_type": "code",
   "execution_count": 6,
   "metadata": {
    "ExecuteTime": {
     "end_time": "2018-01-28T20:55:19.317073Z",
     "start_time": "2018-01-28T20:55:19.314073Z"
    },
    "collapsed": true
   },
   "outputs": [],
   "source": [
    "data['pc1'] *= np.sign(scores[0, 0])"
   ]
  },
  {
   "cell_type": "markdown",
   "metadata": {},
   "source": [
    "## Run regression"
   ]
  },
  {
   "cell_type": "code",
   "execution_count": 8,
   "metadata": {
    "ExecuteTime": {
     "end_time": "2018-01-28T20:55:25.300272Z",
     "start_time": "2018-01-28T20:55:25.294267Z"
    },
    "collapsed": true
   },
   "outputs": [],
   "source": [
    "cases = {\n",
    "    'case #1': list(data.drop(['lhs', 'pc1'], axis=1).columns), \n",
    "    'case #2': ['rhs1'], \n",
    "    'case #3': ['rhs2'], \n",
    "    'case #4': ['rhs3'], \n",
    "    'case #5': ['rhs4'], \n",
    "    'case #6': ['rhs5'], \n",
    "    'case #7': ['pc1']\n",
    "}"
   ]
  },
  {
   "cell_type": "code",
   "execution_count": 9,
   "metadata": {
    "ExecuteTime": {
     "end_time": "2018-01-28T20:55:26.195948Z",
     "start_time": "2018-01-28T20:55:26.187928Z"
    },
    "collapsed": true
   },
   "outputs": [],
   "source": [
    "results_table = pd.DataFrame(\n",
    "    data='',\n",
    "    index=pd.MultiIndex.from_product([list(data.drop('lhs', axis=1).columns), \n",
    "                                      ['coefficient', 'standard error']],\n",
    "                                     names=['variables', 'info']),\n",
    "    columns=list(cases.keys()))"
   ]
  },
  {
   "cell_type": "code",
   "execution_count": 10,
   "metadata": {
    "ExecuteTime": {
     "end_time": "2018-01-28T20:55:28.651669Z",
     "start_time": "2018-01-28T20:55:26.960474Z"
    }
   },
   "outputs": [
    {
     "name": "stderr",
     "output_type": "stream",
     "text": [
      "C:\\Anaconda3\\lib\\site-packages\\statsmodels\\compat\\pandas.py:56: FutureWarning: The pandas.core.datetools module is deprecated and will be removed in a future version. Please use the pandas.tseries module instead.\n",
      "  from pandas.core import datetools\n"
     ]
    }
   ],
   "source": [
    "import statsmodels.api as sm\n",
    "idx = pd.IndexSlice"
   ]
  },
  {
   "cell_type": "code",
   "execution_count": 13,
   "metadata": {
    "ExecuteTime": {
     "end_time": "2018-01-28T20:55:41.079805Z",
     "start_time": "2018-01-28T20:55:41.044779Z"
    }
   },
   "outputs": [],
   "source": [
    "for case, rhs_variables in cases.items(): \n",
    "    regression = sm.OLS(data[['lhs']].values, data[rhs_variables].values).fit()\n",
    "    for ix, rhs_var in enumerate(rhs_variables): \n",
    "        if np.abs(regression.tvalues[ix]) > 2.33: \n",
    "            results_table.loc[idx[rhs_var, 'coefficient'], case] = '{:,.2f}***'.format(regression.params[ix])\n",
    "        elif np.abs(regression.tvalues[ix]) > 1.96 and np.abs(regression.tvalues[ix]) <= 2.33: \n",
    "            results_table.loc[idx[rhs_var, 'coefficient'], case] = '{:,.2f}**'.format(regression.params[ix])\n",
    "        elif np.abs(regression.tvalues[ix]) > 1.645 and np.abs(regression.tvalues[ix]) <= 1.96: \n",
    "            results_table.loc[idx[rhs_var, 'coefficient'], case] = '{:,.2f}*'.format(regression.params[ix])\n",
    "        else: \n",
    "            results_table.loc[idx[rhs_var, 'coefficient'], case] = '{:,.2f}'.format(regression.params[ix])\n",
    "        results_table.loc[idx[rhs_var, 'standard error'], case] = '({:,.2f})'.format(regression.bse[ix])"
   ]
  },
  {
   "cell_type": "code",
   "execution_count": 14,
   "metadata": {
    "ExecuteTime": {
     "end_time": "2018-01-28T20:55:42.272647Z",
     "start_time": "2018-01-28T20:55:42.256637Z"
    }
   },
   "outputs": [
    {
     "data": {
      "text/html": [
       "<div>\n",
       "<style>\n",
       "    .dataframe thead tr:only-child th {\n",
       "        text-align: right;\n",
       "    }\n",
       "\n",
       "    .dataframe thead th {\n",
       "        text-align: left;\n",
       "    }\n",
       "\n",
       "    .dataframe tbody tr th {\n",
       "        vertical-align: top;\n",
       "    }\n",
       "</style>\n",
       "<table border=\"1\" class=\"dataframe\">\n",
       "  <thead>\n",
       "    <tr style=\"text-align: right;\">\n",
       "      <th></th>\n",
       "      <th></th>\n",
       "      <th>case #1</th>\n",
       "      <th>case #2</th>\n",
       "      <th>case #3</th>\n",
       "      <th>case #4</th>\n",
       "      <th>case #5</th>\n",
       "      <th>case #6</th>\n",
       "      <th>case #7</th>\n",
       "    </tr>\n",
       "    <tr>\n",
       "      <th>variables</th>\n",
       "      <th>info</th>\n",
       "      <th></th>\n",
       "      <th></th>\n",
       "      <th></th>\n",
       "      <th></th>\n",
       "      <th></th>\n",
       "      <th></th>\n",
       "      <th></th>\n",
       "    </tr>\n",
       "  </thead>\n",
       "  <tbody>\n",
       "    <tr>\n",
       "      <th rowspan=\"2\" valign=\"top\">rhs1</th>\n",
       "      <th>coefficient</th>\n",
       "      <td>-0.36***</td>\n",
       "      <td>-2.00***</td>\n",
       "      <td></td>\n",
       "      <td></td>\n",
       "      <td></td>\n",
       "      <td></td>\n",
       "      <td></td>\n",
       "    </tr>\n",
       "    <tr>\n",
       "      <th>standard error</th>\n",
       "      <td>(0.06)</td>\n",
       "      <td>(0.00)</td>\n",
       "      <td></td>\n",
       "      <td></td>\n",
       "      <td></td>\n",
       "      <td></td>\n",
       "      <td></td>\n",
       "    </tr>\n",
       "    <tr>\n",
       "      <th rowspan=\"2\" valign=\"top\">rhs2</th>\n",
       "      <th>coefficient</th>\n",
       "      <td>-0.00***</td>\n",
       "      <td></td>\n",
       "      <td>-0.02***</td>\n",
       "      <td></td>\n",
       "      <td></td>\n",
       "      <td></td>\n",
       "      <td></td>\n",
       "    </tr>\n",
       "    <tr>\n",
       "      <th>standard error</th>\n",
       "      <td>(0.00)</td>\n",
       "      <td></td>\n",
       "      <td>(0.00)</td>\n",
       "      <td></td>\n",
       "      <td></td>\n",
       "      <td></td>\n",
       "      <td></td>\n",
       "    </tr>\n",
       "    <tr>\n",
       "      <th rowspan=\"2\" valign=\"top\">rhs3</th>\n",
       "      <th>coefficient</th>\n",
       "      <td>-0.02***</td>\n",
       "      <td></td>\n",
       "      <td></td>\n",
       "      <td>-0.10***</td>\n",
       "      <td></td>\n",
       "      <td></td>\n",
       "      <td></td>\n",
       "    </tr>\n",
       "    <tr>\n",
       "      <th>standard error</th>\n",
       "      <td>(0.00)</td>\n",
       "      <td></td>\n",
       "      <td></td>\n",
       "      <td>(0.00)</td>\n",
       "      <td></td>\n",
       "      <td></td>\n",
       "      <td></td>\n",
       "    </tr>\n",
       "    <tr>\n",
       "      <th rowspan=\"2\" valign=\"top\">rhs4</th>\n",
       "      <th>coefficient</th>\n",
       "      <td>-0.08***</td>\n",
       "      <td></td>\n",
       "      <td></td>\n",
       "      <td></td>\n",
       "      <td>-0.40***</td>\n",
       "      <td></td>\n",
       "      <td></td>\n",
       "    </tr>\n",
       "    <tr>\n",
       "      <th>standard error</th>\n",
       "      <td>(0.01)</td>\n",
       "      <td></td>\n",
       "      <td></td>\n",
       "      <td></td>\n",
       "      <td>(0.00)</td>\n",
       "      <td></td>\n",
       "      <td></td>\n",
       "    </tr>\n",
       "    <tr>\n",
       "      <th rowspan=\"2\" valign=\"top\">rhs5</th>\n",
       "      <th>coefficient</th>\n",
       "      <td>-0.06***</td>\n",
       "      <td></td>\n",
       "      <td></td>\n",
       "      <td></td>\n",
       "      <td></td>\n",
       "      <td>-0.29***</td>\n",
       "      <td></td>\n",
       "    </tr>\n",
       "    <tr>\n",
       "      <th>standard error</th>\n",
       "      <td>(0.01)</td>\n",
       "      <td></td>\n",
       "      <td></td>\n",
       "      <td></td>\n",
       "      <td></td>\n",
       "      <td>(0.00)</td>\n",
       "      <td></td>\n",
       "    </tr>\n",
       "    <tr>\n",
       "      <th rowspan=\"2\" valign=\"top\">pc1</th>\n",
       "      <th>coefficient</th>\n",
       "      <td></td>\n",
       "      <td></td>\n",
       "      <td></td>\n",
       "      <td></td>\n",
       "      <td></td>\n",
       "      <td></td>\n",
       "      <td>-26.31***</td>\n",
       "    </tr>\n",
       "    <tr>\n",
       "      <th>standard error</th>\n",
       "      <td></td>\n",
       "      <td></td>\n",
       "      <td></td>\n",
       "      <td></td>\n",
       "      <td></td>\n",
       "      <td></td>\n",
       "      <td>(1.40)</td>\n",
       "    </tr>\n",
       "  </tbody>\n",
       "</table>\n",
       "</div>"
      ],
      "text/plain": [
       "                           case #1   case #2   case #3   case #4   case #5  \\\n",
       "variables info                                                               \n",
       "rhs1      coefficient     -0.36***  -2.00***                                 \n",
       "          standard error    (0.06)    (0.00)                                 \n",
       "rhs2      coefficient     -0.00***            -0.02***                       \n",
       "          standard error    (0.00)              (0.00)                       \n",
       "rhs3      coefficient     -0.02***                      -0.10***             \n",
       "          standard error    (0.00)                        (0.00)             \n",
       "rhs4      coefficient     -0.08***                                -0.40***   \n",
       "          standard error    (0.01)                                  (0.00)   \n",
       "rhs5      coefficient     -0.06***                                           \n",
       "          standard error    (0.01)                                           \n",
       "pc1       coefficient                                                        \n",
       "          standard error                                                     \n",
       "\n",
       "                           case #6    case #7  \n",
       "variables info                                 \n",
       "rhs1      coefficient                          \n",
       "          standard error                       \n",
       "rhs2      coefficient                          \n",
       "          standard error                       \n",
       "rhs3      coefficient                          \n",
       "          standard error                       \n",
       "rhs4      coefficient                          \n",
       "          standard error                       \n",
       "rhs5      coefficient     -0.29***             \n",
       "          standard error    (0.00)             \n",
       "pc1       coefficient               -26.31***  \n",
       "          standard error               (1.40)  "
      ]
     },
     "execution_count": 14,
     "metadata": {},
     "output_type": "execute_result"
    }
   ],
   "source": [
    "results_table"
   ]
  }
 ],
 "metadata": {
  "kernelspec": {
   "display_name": "Python 3",
   "language": "python",
   "name": "python3"
  },
  "language_info": {
   "codemirror_mode": {
    "name": "ipython",
    "version": 3
   },
   "file_extension": ".py",
   "mimetype": "text/x-python",
   "name": "python",
   "nbconvert_exporter": "python",
   "pygments_lexer": "ipython3",
   "version": "3.6.2"
  },
  "toc": {
   "nav_menu": {},
   "number_sections": true,
   "sideBar": true,
   "skip_h1_title": false,
   "toc_cell": false,
   "toc_position": {
    "height": "626px",
    "left": "0px",
    "right": "1324px",
    "top": "107px",
    "width": "212px"
   },
   "toc_section_display": "block",
   "toc_window_display": true
  },
  "varInspector": {
   "cols": {
    "lenName": 16,
    "lenType": 16,
    "lenVar": 40
   },
   "kernels_config": {
    "python": {
     "delete_cmd_postfix": "",
     "delete_cmd_prefix": "del ",
     "library": "var_list.py",
     "varRefreshCmd": "print(var_dic_list())"
    },
    "r": {
     "delete_cmd_postfix": ") ",
     "delete_cmd_prefix": "rm(",
     "library": "var_list.r",
     "varRefreshCmd": "cat(var_dic_list()) "
    }
   },
   "types_to_exclude": [
    "module",
    "function",
    "builtin_function_or_method",
    "instance",
    "_Feature"
   ],
   "window_display": false
  }
 },
 "nbformat": 4,
 "nbformat_minor": 2
}
