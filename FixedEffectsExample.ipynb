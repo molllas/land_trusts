{
 "cells": [
  {
   "cell_type": "markdown",
   "metadata": {},
   "source": [
    "# Initialize"
   ]
  },
  {
   "cell_type": "code",
   "execution_count": 128,
   "metadata": {
    "ExecuteTime": {
     "end_time": "2018-02-04T20:46:24.365934Z",
     "start_time": "2018-02-04T20:46:24.358931Z"
    },
    "collapsed": true
   },
   "outputs": [],
   "source": [
    "import pandas as pd\n",
    "idx = pd.IndexSlice\n",
    "import numpy as np\n",
    "\n",
    "import matplotlib.pyplot as plt\n",
    "import seaborn as sns\n",
    "\n",
    "%matplotlib inline"
   ]
  },
  {
   "cell_type": "markdown",
   "metadata": {},
   "source": [
    "# Simulate data"
   ]
  },
  {
   "cell_type": "markdown",
   "metadata": {},
   "source": [
    "## Model"
   ]
  },
  {
   "cell_type": "markdown",
   "metadata": {},
   "source": [
    "$\\frac{A_{i,t+1} - A_{i,t}}{A_{i,t}} = \\alpha_i - \\beta \\cdot S_{i,t} + \\theta \\cdot SCI_{i,t} + \\epsilon_{i,t}$"
   ]
  },
  {
   "cell_type": "markdown",
   "metadata": {},
   "source": [
    "## Numerical Example"
   ]
  },
  {
   "cell_type": "markdown",
   "metadata": {},
   "source": [
    "- Entity fixed effects (fixed effects for each land trust) mean that each land trust has a different regression intercept $\\alpha_i$. \n",
    "- In the estimation, it can be accounted for by a separate dummy variable for each land trust (e.g. for land trust $i$, a dummy variable that takes on value 1 for land trust $i$, and value 0 for all other land trusts). \n",
    "- Alternatively, by demeaning both the LHS and RHS variables by the land trust specific means before running simple OLS (i.e. for land trust $i$ growth rate and size for different years, we subtract the mean across years for land trust $i$). "
   ]
  },
  {
   "cell_type": "code",
   "execution_count": 131,
   "metadata": {
    "ExecuteTime": {
     "end_time": "2018-02-04T20:53:06.580814Z",
     "start_time": "2018-02-04T20:53:06.550791Z"
    }
   },
   "outputs": [
    {
     "data": {
      "text/html": [
       "<div>\n",
       "<style>\n",
       "    .dataframe thead tr:only-child th {\n",
       "        text-align: right;\n",
       "    }\n",
       "\n",
       "    .dataframe thead th {\n",
       "        text-align: left;\n",
       "    }\n",
       "\n",
       "    .dataframe tbody tr th {\n",
       "        vertical-align: top;\n",
       "    }\n",
       "</style>\n",
       "<table border=\"1\" class=\"dataframe\">\n",
       "  <thead>\n",
       "    <tr style=\"text-align: right;\">\n",
       "      <th></th>\n",
       "      <th></th>\n",
       "      <th>land_conserved</th>\n",
       "      <th>growth_rate</th>\n",
       "      <th>growth_rate_demeaned</th>\n",
       "      <th>size</th>\n",
       "      <th>size_demeaned</th>\n",
       "    </tr>\n",
       "  </thead>\n",
       "  <tbody>\n",
       "    <tr>\n",
       "      <th rowspan=\"4\" valign=\"top\">a</th>\n",
       "      <th>2000</th>\n",
       "      <td>1300</td>\n",
       "      <td>46.15</td>\n",
       "      <td>13.66</td>\n",
       "      <td>1300</td>\n",
       "      <td>-850</td>\n",
       "    </tr>\n",
       "    <tr>\n",
       "      <th>2005</th>\n",
       "      <td>1900</td>\n",
       "      <td>26.32</td>\n",
       "      <td>-6.17</td>\n",
       "      <td>1900</td>\n",
       "      <td>-250</td>\n",
       "    </tr>\n",
       "    <tr>\n",
       "      <th>2010</th>\n",
       "      <td>2400</td>\n",
       "      <td>25.00</td>\n",
       "      <td>-7.49</td>\n",
       "      <td>2400</td>\n",
       "      <td>250</td>\n",
       "    </tr>\n",
       "    <tr>\n",
       "      <th>2015</th>\n",
       "      <td>3000</td>\n",
       "      <td>NaN</td>\n",
       "      <td>NaN</td>\n",
       "      <td>3000</td>\n",
       "      <td>850</td>\n",
       "    </tr>\n",
       "    <tr>\n",
       "      <th rowspan=\"4\" valign=\"top\">b</th>\n",
       "      <th>2000</th>\n",
       "      <td>750</td>\n",
       "      <td>33.33</td>\n",
       "      <td>7.22</td>\n",
       "      <td>750</td>\n",
       "      <td>-375</td>\n",
       "    </tr>\n",
       "    <tr>\n",
       "      <th>2005</th>\n",
       "      <td>1000</td>\n",
       "      <td>25.00</td>\n",
       "      <td>-1.11</td>\n",
       "      <td>1000</td>\n",
       "      <td>-125</td>\n",
       "    </tr>\n",
       "    <tr>\n",
       "      <th>2010</th>\n",
       "      <td>1250</td>\n",
       "      <td>20.00</td>\n",
       "      <td>-6.11</td>\n",
       "      <td>1250</td>\n",
       "      <td>125</td>\n",
       "    </tr>\n",
       "    <tr>\n",
       "      <th>2015</th>\n",
       "      <td>1500</td>\n",
       "      <td>NaN</td>\n",
       "      <td>NaN</td>\n",
       "      <td>1500</td>\n",
       "      <td>375</td>\n",
       "    </tr>\n",
       "  </tbody>\n",
       "</table>\n",
       "</div>"
      ],
      "text/plain": [
       "        land_conserved  growth_rate  growth_rate_demeaned  size  size_demeaned\n",
       "a 2000            1300        46.15                 13.66  1300           -850\n",
       "  2005            1900        26.32                 -6.17  1900           -250\n",
       "  2010            2400        25.00                 -7.49  2400            250\n",
       "  2015            3000          NaN                   NaN  3000            850\n",
       "b 2000             750        33.33                  7.22   750           -375\n",
       "  2005            1000        25.00                 -1.11  1000           -125\n",
       "  2010            1250        20.00                 -6.11  1250            125\n",
       "  2015            1500          NaN                   NaN  1500            375"
      ]
     },
     "execution_count": 131,
     "metadata": {},
     "output_type": "execute_result"
    }
   ],
   "source": [
    "data = pd.DataFrame(np.array([1300, 1900, 2400, 3000, \n",
    "                             750, 1000, 1250, 1500]),\n",
    "                    index=pd.MultiIndex.from_product([['a', 'b'], \n",
    "                                                      [2000, 2005, 2010, 2015]]), \n",
    "                    columns=['land_conserved'])\n",
    "data['growth_rate'] = (data.groupby(level=0).shift(-1) / data - 1)*100\n",
    "data['growth_rate_demeaned'] = data['growth_rate'].subtract(data.groupby(level=0)['growth_rate'].mean(), 0)\n",
    "data['size'] = data['land_conserved']\n",
    "data['size_demeaned'] = data['size'].subtract(data.groupby(level=0)['size'].mean(), 0)\n",
    "data.round(2)"
   ]
  },
  {
   "cell_type": "markdown",
   "metadata": {},
   "source": [
    "## Plot"
   ]
  },
  {
   "cell_type": "code",
   "execution_count": 130,
   "metadata": {
    "ExecuteTime": {
     "end_time": "2018-02-04T20:46:53.573762Z",
     "start_time": "2018-02-04T20:46:53.231686Z"
    }
   },
   "outputs": [
    {
     "data": {
      "text/plain": [
       "<matplotlib.text.Text at 0x154415c0f28>"
      ]
     },
     "execution_count": 130,
     "metadata": {},
     "output_type": "execute_result"
    },
    {
     "data": {
      "image/png": "[encoded data removed]",
      "text/plain": [
       "<matplotlib.figure.Figure at 0x1543ffc6a90>"
      ]
     },
     "metadata": {},
     "output_type": "display_data"
    }
   ],
   "source": [
    "fig, axes = plt.subplots(2, 1, figsize=(10, 15))\n",
    "axes[0].set_title('Raw data')\n",
    "axes[0].scatter(data.loc[idx['a', :], 'size'], data.loc[idx['a', :], 'growth_rate'], color='r')\n",
    "axes[0].scatter(data.loc[idx['b', :], 'size'], data.loc[idx['b', :], 'growth_rate'], color='b')\n",
    "axes[0].set_xlim(0, max(data['size']*1.1))\n",
    "axes[0].set_ylim(0, max(data['growth_rate']*1.1))\n",
    "axes[0].set_xlabel('size')\n",
    "axes[0].set_ylabel('growth rate')\n",
    "\n",
    "axes[1].set_title('Demeaned data (what happens when including fixed effects)')\n",
    "axes[1].scatter(data.loc[idx['a', :], 'size_demeaned'], data.loc[idx['a', :], 'growth_rate_demeaned'], color='r')\n",
    "axes[1].scatter(data.loc[idx['b', :], 'size_demeaned'], data.loc[idx['b', :], 'growth_rate_demeaned'], color='b')\n",
    "axes[1].set_xlabel('size demeaned')\n",
    "axes[1].set_ylabel('growth rate demeaned')\n"
   ]
  }
 ],
 "metadata": {
  "kernelspec": {
   "display_name": "Python 3",
   "language": "python",
   "name": "python3"
  },
  "language_info": {
   "codemirror_mode": {
    "name": "ipython",
    "version": 3
   },
   "file_extension": ".py",
   "mimetype": "text/x-python",
   "name": "python",
   "nbconvert_exporter": "python",
   "pygments_lexer": "ipython3",
   "version": "3.6.2"
  },
  "toc": {
   "nav_menu": {},
   "number_sections": true,
   "sideBar": true,
   "skip_h1_title": false,
   "toc_cell": false,
   "toc_position": {},
   "toc_section_display": "block",
   "toc_window_display": false
  },
  "varInspector": {
   "cols": {
    "lenName": 16,
    "lenType": 16,
    "lenVar": 40
   },
   "kernels_config": {
    "python": {
     "delete_cmd_postfix": "",
     "delete_cmd_prefix": "del ",
     "library": "var_list.py",
     "varRefreshCmd": "print(var_dic_list())"
    },
    "r": {
     "delete_cmd_postfix": ") ",
     "delete_cmd_prefix": "rm(",
     "library": "var_list.r",
     "varRefreshCmd": "cat(var_dic_list()) "
    }
   },
   "types_to_exclude": [
    "module",
    "function",
    "builtin_function_or_method",
    "instance",
    "_Feature"
   ],
   "window_display": false
  }
 },
 "nbformat": 4,
 "nbformat_minor": 2
}
